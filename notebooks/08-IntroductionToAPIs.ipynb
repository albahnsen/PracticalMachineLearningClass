{
 "cells": [
  {
   "cell_type": "markdown",
   "metadata": {
    "slideshow": {
     "slide_type": "slide"
    }
   },
   "source": [
    "# 08 - Introduction to APIs\n",
    "\n",
    "by [Alejandro Correa Bahnsen](albahnsen.com/) and [Jesus Solano](https://github.com/jesugome)\n",
    "\n",
    "version 1.4, February 2019\n",
    "\n",
    "## Part of the class [Practical Machine Learning](https://github.com/albahnsen/PracticalMachineLearningClass)\n",
    "\n",
    "\n",
    "\n",
    "This notebook is licensed under a [Creative Commons Attribution-ShareAlike 3.0 Unported License](http://creativecommons.org/licenses/by-sa/3.0/deed.en_US). \n",
    "\n",
    "Adapted with permision from https://restful.io/an-introduction-to-api-s-cee90581ca1b"
   ]
  },
  {
   "cell_type": "markdown",
   "metadata": {
    "slideshow": {
     "slide_type": "slide"
    }
   },
   "source": [
    "API stands for application programming interfaces.\n",
    "\n",
    "An API is the tool that makes a website’s data digestible for a computer. Through it, a computer can view and edit data, just like a person can by loading pages and submitting forms.\n",
    "\n",
    "![](https://cdn-images-1.medium.com/max/800/0*UAOYre2cKUlw2aa2.gif)\n",
    "\n",
    "When systems link up through an API, we say they are integrated. One side the server that serves the API, and the other side the client that consumer the API and can manipulate it."
   ]
  },
  {
   "cell_type": "markdown",
   "metadata": {
    "slideshow": {
     "slide_type": "slide"
    }
   },
   "source": [
    "# HTTP Request\n",
    "Communication in HTTP (Hyper Text Transfer Protocol) center around a concept called the Request-Response Cycle.\n",
    "\n",
    "![](https://cdn-images-1.medium.com/max/800/0*bYF8loGdnpHklSKS.gif)\n",
    "\n",
    "To make a valid request, the client needs to include four things:\n",
    "\n",
    "1. URL ( Uniform Resource Locator)\n",
    "2. Method\n",
    "3. List of Headers\n",
    "4. Body"
   ]
  },
  {
   "cell_type": "markdown",
   "metadata": {
    "slideshow": {
     "slide_type": "subslide"
    }
   },
   "source": [
    "## URL\n",
    "URLs become an easy way for the client to tell the server which things it wants to interact with, called resources."
   ]
  },
  {
   "cell_type": "markdown",
   "metadata": {
    "slideshow": {
     "slide_type": "subslide"
    }
   },
   "source": [
    "## Method\n",
    "The method request tells the server what kind of action the client wants the server to take in. The four most commonly seen in API’s are:\n",
    "\n",
    "* GET — Asks the server to retrieve a resource.\n",
    "* POST — Asks the server to create a new resource.\n",
    "* PUT — Asks the server to edit/update an existing resource.\n",
    "* DELETE — Asks the server to delete a resource."
   ]
  },
  {
   "cell_type": "markdown",
   "metadata": {
    "slideshow": {
     "slide_type": "subslide"
    }
   },
   "source": [
    "## Headers\n",
    "Headers provide meta-information about a request."
   ]
  },
  {
   "cell_type": "markdown",
   "metadata": {
    "slideshow": {
     "slide_type": "subslide"
    }
   },
   "source": [
    "## Body\n",
    "The request body contains the data the client wants to send the server.\n",
    "\n",
    "![](https://cdn-images-1.medium.com/max/800/0*ISI_huTLMe899JVq.gif)"
   ]
  },
  {
   "cell_type": "markdown",
   "metadata": {
    "slideshow": {
     "slide_type": "slide"
    }
   },
   "source": [
    "# HTTP Response\n",
    "The server responds with a status code. Status code are three-digit numbers.\n",
    "\n",
    "![](https://cdn-images-1.medium.com/max/800/0*EEhV9BlXgsTFnBW8.gif)"
   ]
  },
  {
   "cell_type": "markdown",
   "metadata": {
    "slideshow": {
     "slide_type": "slide"
    }
   },
   "source": [
    "# Data Formats\n",
    "A well-designed format is dictated by what makes the information the easiest for the intended audience to understand. The most common formats found in APIs are JSON and XML."
   ]
  },
  {
   "cell_type": "markdown",
   "metadata": {
    "slideshow": {
     "slide_type": "subslide"
    }
   },
   "source": [
    "**JSON** is very simple format that has two pieces: key and value.\n",
    "\n",
    "![](https://cdn-images-1.medium.com/max/800/0*RGyvMHfNhD2o_kin.gif)"
   ]
  },
  {
   "cell_type": "markdown",
   "metadata": {
    "slideshow": {
     "slide_type": "subslide"
    }
   },
   "source": [
    "**XML** provides a few building blocks. The main block is called a node. XML always starts with a root node, inside there are more “child” nodes. The name of the node tells us the attribute of the order and the data inside is the actual details.\n",
    "\n",
    "![](https://cdn-images-1.medium.com/max/800/0*CeVfBzXABkeYmo90.gif)"
   ]
  },
  {
   "cell_type": "markdown",
   "metadata": {
    "slideshow": {
     "slide_type": "subslide"
    }
   },
   "source": [
    "## How Data Formats Are Used In HTTP\n",
    "Using Headers we can tell the server what information we are sending to it and what we expect in return.\n",
    "\n",
    "Content-type: When the clients send the Content-type its saying what format the data is.\n",
    "\n",
    "Accept: The Accept header tells the server what data-format it is able to accept.\n",
    "\n",
    "![](https://cdn-images-1.medium.com/max/800/0*9O5LVfNoSEL18CDf.gif)"
   ]
  },
  {
   "cell_type": "markdown",
   "metadata": {
    "slideshow": {
     "slide_type": "slide"
    }
   },
   "source": [
    "## Authentication, Part 1\n",
    "There are several techniques APIs use to athenticate a client. These are called authentication schemes."
   ]
  },
  {
   "cell_type": "markdown",
   "metadata": {
    "slideshow": {
     "slide_type": "subslide"
    }
   },
   "source": [
    "## Basic Authentication\n",
    "Also referred as Basic Auth. Basic Auth only requires a user name and password. The client takes these two credentials, converts them to a single value and passes that along in the HTTP header called Authentication.\n",
    "\n",
    "![](https://cdn-images-1.medium.com/max/800/0*LvzuG0DM6DFlKpaG.gif)\n",
    "\n",
    "The server compares the Authorization header and compares it to the credential it has stored. If it matches, the server fulfills the request. If there is no match, the server returns status code 401."
   ]
  },
  {
   "cell_type": "markdown",
   "metadata": {
    "slideshow": {
     "slide_type": "subslide"
    }
   },
   "source": [
    "#### API Key Authentication\n",
    "\n",
    "API Key Authentication is a technique that overcomes the weakness of using shared credentials. by requiring the API to be accessed with a unique key. Unlike Basic Auth, API keys were conceived at multiple companies in the early days of the web. As a result, API Key Authentication has no standard and everybody has its own way of doing it.\n",
    "\n",
    "The most common approach has been to include it onto the URL(http://example.com?apikey=mysecret_key)."
   ]
  },
  {
   "cell_type": "markdown",
   "metadata": {
    "slideshow": {
     "slide_type": "slide"
    }
   },
   "source": [
    "## Authentication, Part 2\n",
    "Open Authorization (OAuth) automates the key exchange. OAuth only requires user credentials, then behind the scenes, the client and server are chatting back and forth to get the client a valid key.\n",
    "\n",
    "Currently there are two versions of OAuth, OAuth1 and OAuth2."
   ]
  },
  {
   "cell_type": "markdown",
   "metadata": {
    "slideshow": {
     "slide_type": "subslide"
    }
   },
   "source": [
    "#### OAuth2\n",
    "\n",
    "The players involved are:\n",
    "- The User - A person that wants to connect to the website\n",
    "- The Client - The website that will be grated the access to the user's data\n",
    "- The Server - The website that has the user's data"
   ]
  },
  {
   "cell_type": "markdown",
   "metadata": {
    "slideshow": {
     "slide_type": "slide"
    }
   },
   "source": [
    "# Authentication Example"
   ]
  },
  {
   "cell_type": "markdown",
   "metadata": {
    "slideshow": {
     "slide_type": "subslide"
    }
   },
   "source": [
    "#### Step 1 — User Tells Client to Connect to Server\n",
    "\n",
    "![](https://cdn-images-1.medium.com/max/800/0*lYY4byGzijFJvQWV.gif)"
   ]
  },
  {
   "cell_type": "markdown",
   "metadata": {
    "slideshow": {
     "slide_type": "subslide"
    }
   },
   "source": [
    "#### Step 2 — Client Directs User to Server\n",
    "\n",
    "The client sends the user over to the server’s website, along with a URL that the server will send the user back to once the user authenticates, called the callback URL.\n",
    "![](https://cdn-images-1.medium.com/max/800/0*9hcujfB4n-QWdTnM.gif)"
   ]
  },
  {
   "cell_type": "markdown",
   "metadata": {
    "slideshow": {
     "slide_type": "subslide"
    }
   },
   "source": [
    "#### Step 3 — User Logs-in to Server and Grants Client Access\n",
    "\n",
    "With their normal user name and password, the user authenticates with the server.\n",
    "![](https://cdn-images-1.medium.com/max/800/0*fztMtt5ReLWq9tEa.gif)"
   ]
  },
  {
   "cell_type": "markdown",
   "metadata": {
    "slideshow": {
     "slide_type": "subslide"
    }
   },
   "source": [
    "#### Step 4 — Server Sends User Back to Client, Along with Code\n",
    "\n",
    "![](https://cdn-images-1.medium.com/max/800/0*I3jgtl1wQKS-cohv.gif)\n",
    "\n",
    "The server sends the user back to the client using the callback URL. Hidden in the response is a unique authorization code for the client.\n",
    "\n",
    "![](https://cdn-images-1.medium.com/max/800/0*fuU52z6jaU1XbT7k.gif)"
   ]
  },
  {
   "cell_type": "markdown",
   "metadata": {
    "slideshow": {
     "slide_type": "subslide"
    }
   },
   "source": [
    "#### Step 5 — Client Exchange Code + Secret Key for Access Token\n",
    "\n",
    "The client takes the authorization code it receives and makes another request to the server. This request includes the client’s secret key. When the server sees a valid authorization code and a trusted client secret key, it is certain that the client is who it claims. The server responds back with an access token.\n",
    "\n",
    "![](https://cdn-images-1.medium.com/max/800/0*2gJAjpZY34t9Lwdy.gif)"
   ]
  },
  {
   "cell_type": "markdown",
   "metadata": {
    "slideshow": {
     "slide_type": "subslide"
    }
   },
   "source": [
    "#### Step 6 — Client Fetches Data from Server.\n",
    "\n",
    "![](https://cdn-images-1.medium.com/max/800/0*MnfJDaCWTCyTFpjD.gif)\n",
    "\n",
    "The access token from Step 5 is essentially another password into the user’s account on the server. The client includes the access token with every request so it can authenticate directly with the server.\n",
    "\n",
    "Client Refresh Token (Optional)\n",
    "\n",
    "A feature in OAuth 2 is the option to have access tokens expire. The lifespan of a token is set by the server."
   ]
  },
  {
   "cell_type": "markdown",
   "metadata": {
    "slideshow": {
     "slide_type": "subslide"
    }
   },
   "source": [
    "## Authorization\n",
    "Authorization is the concept of limiting access. In Step 2, when the user allows the client access, buried in the fine print are the exact permissions the client is asking for. Those permission are called scope.\n",
    "\n",
    "What makes scope powerful is that is client-based restrictions. OAuth scope allows one client to have permission X and another to have permission X and Y."
   ]
  },
  {
   "cell_type": "markdown",
   "metadata": {
    "slideshow": {
     "slide_type": "slide"
    }
   },
   "source": [
    "# API Design\n",
    "## Start with an Architectural Style\n",
    "The two most common architectures for web-based APIs are SOAP, which is an XML-based design that has a standardized structures for requests and responses and REST (Representation State Transfer), is a more open approach, providing lots of conventions, but leaving many decisions to the person designing the API."
   ]
  },
  {
   "cell_type": "markdown",
   "metadata": {
    "slideshow": {
     "slide_type": "subslide"
    }
   },
   "source": [
    "## Our First Resource\n",
    "Resources are the nouns of APIs (customers and pizza). These are things we want the world to interact with.\n",
    "\n",
    "Let’s try to design an API for a pizza parlour. For the client to be able to talk pizza with us, we need to do several things:\n",
    "\n",
    "1. Decide what resource(s) need to be available\n",
    "2. Assign URLs to the resources\n",
    "3. Decide what actions the client should be allowed to perform on those resources\n",
    "4. Figure out what pieces of data are required for each action and what format they should be in."
   ]
  },
  {
   "cell_type": "markdown",
   "metadata": {
    "slideshow": {
     "slide_type": "subslide"
    }
   },
   "source": [
    "Lets get started with orders. The next step is assigning URLs to the resources. In a typical REST API, a resource will have two URL patterns assigned to it. The first is the plural of the resource name, like orders/. The second is the plural of the resources name plus a unique identifier to specify a single resource, like orders/, where is the unique identifier for an order. These two parameters make up the first endpoints that our API will support. These are called endpoints simply because they go at the end of the URL, as in http://example.com/"
   ]
  },
  {
   "cell_type": "markdown",
   "metadata": {
    "slideshow": {
     "slide_type": "subslide"
    }
   },
   "source": [
    "Now that we picked our resources and assigned it URLs, we need to decide what actions the client can perform. Following REST conventions, we say that the plural endpoint (orders/) is for listing existing orders and creating new ones. The plural with a unique identifier endpoint (orders/), is for retrieving, updating, or canceling a specific order. The client tells the server which action to perform by passing the appropriate HTTP verb (GET, POST, PUT or DELETE) in the request."
   ]
  },
  {
   "cell_type": "markdown",
   "metadata": {
    "slideshow": {
     "slide_type": "subslide"
    }
   },
   "source": [
    "Our API now looks like this:\n",
    "\n",
    "![](https://cdn-images-1.medium.com/max/800/1*byTb6TfrjqSHs_GGwm-MZg.jpeg)"
   ]
  },
  {
   "cell_type": "markdown",
   "metadata": {
    "slideshow": {
     "slide_type": "subslide"
    }
   },
   "source": [
    "Now we decide what data needs to be exchanged. Coming from our pizza parlour, we can say an order of pizza needs a crust and toppings. We also need to select a data format, lets go with JSON. Here is what an interaction between the client and server might look like using this API:"
   ]
  },
  {
   "cell_type": "markdown",
   "metadata": {
    "slideshow": {
     "slide_type": "subslide"
    }
   },
   "source": [
    "![](https://cdn-images-1.medium.com/max/800/0*XEwpEN61U6liVuq1.gif)"
   ]
  },
  {
   "cell_type": "markdown",
   "metadata": {
    "slideshow": {
     "slide_type": "subslide"
    }
   },
   "source": [
    "![](https://cdn-images-1.medium.com/max/800/0*cNaL4tiXm5RRXffS.gif)"
   ]
  },
  {
   "cell_type": "markdown",
   "metadata": {
    "slideshow": {
     "slide_type": "subslide"
    }
   },
   "source": [
    "![](https://cdn-images-1.medium.com/max/800/0*uqtNDnqCLqVCl0XO.gif)"
   ]
  },
  {
   "cell_type": "markdown",
   "metadata": {
    "slideshow": {
     "slide_type": "subslide"
    }
   },
   "source": [
    "![](https://cdn-images-1.medium.com/max/800/0*XtPjPGcyY3D8NNzC.gif)"
   ]
  },
  {
   "cell_type": "markdown",
   "metadata": {
    "slideshow": {
     "slide_type": "subslide"
    }
   },
   "source": [
    "## Linking Resources Together\n",
    "We want add a new customer resource to track orders by customer. Just like with orders, our customer resource needs some endpoint. Following convention, /customer and /customer/.\n",
    "\n",
    "How do we associate orders with customers?"
   ]
  },
  {
   "cell_type": "markdown",
   "metadata": {
    "slideshow": {
     "slide_type": "subslide"
    }
   },
   "source": [
    "REST practitioners are split on how to solve the problem of associating resources. Some say that the hierarchy should continue to grow, giving endpoints like /customers/5/orders for all of customer #5's orders and/customers/5/orders/3 for customer #5's third order. Others argue to keep things flat by including associated details in the data for a resource. Under this paradigm, creating an order requires a customer_id field to be sent with the order details. Both solutions are used by REST APIs in the wild, so it is worth knowing about each."
   ]
  },
  {
   "cell_type": "markdown",
   "metadata": {
    "slideshow": {
     "slide_type": "subslide"
    }
   },
   "source": [
    "![](https://cdn-images-1.medium.com/max/800/0*JjCJqVYPCb8QRC5r.gif)"
   ]
  },
  {
   "cell_type": "markdown",
   "metadata": {
    "slideshow": {
     "slide_type": "subslide"
    }
   },
   "source": [
    "## Searching Data\n",
    "URLs have another component called the query string. For example:http://example.com/orders?key=value. REST APIs use the query string to define details of a search. These details are called query parameters. The API dictates what parameters it will accept, and the exact names of those parameters need to be used for them to effect the search. In our case key can allow search by topping and/or curst and you can concatenate the search with an ampersand(&)."
   ]
  },
  {
   "cell_type": "markdown",
   "metadata": {
    "slideshow": {
     "slide_type": "subslide"
    }
   },
   "source": [
    "For example: http://example.com/orders?topping=pepperoni&crust=thin\n",
    "\n",
    "Another use of the query string is to limit the amount of data returned in each request. The process of splitting data is called pagination. If the client makes a request like GET /orders?page=2&size=200, we know they want the second page of results, with 200 results per page, so order 201–400."
   ]
  },
  {
   "cell_type": "markdown",
   "metadata": {
    "slideshow": {
     "slide_type": "slide"
    }
   },
   "source": [
    "# Glossary\n",
    "- Server: A powerful computer that runs an API\n",
    "- API: The “hidden” portion of a website that is meant for computer consumption\n",
    "- Client: A program that exchanges data with a server through an API\n",
    "- Request — consists of a URL (http://...), a method (GET, POST, PUT, DELETE), a list of headers (User-Agent…), and a body (data).\n",
    "- Response — consists of a status code (200, 404…), a list of headers, and a body.\n",
    "- JSON: JavaScript Object Notation"
   ]
  },
  {
   "cell_type": "markdown",
   "metadata": {
    "slideshow": {
     "slide_type": "subslide"
    }
   },
   "source": [
    "# Glossary\n",
    "- Object: a thing or noun (person, pizza order…)\n",
    "- Key: an attribute about an object (color, toppings…)\n",
    "- Value: the value of an attribute (blue, pepperoni…)\n",
    "- Associative array: a nested object\n",
    "- XML: Extensible Markup Language\n",
    "- Authentication: process of the client proving its identity to the server"
   ]
  },
  {
   "cell_type": "markdown",
   "metadata": {
    "slideshow": {
     "slide_type": "subslide"
    }
   },
   "source": [
    "# Glossary\n",
    "- Credentials: secret pieces of info used to prove the client’s identity (username, password…)\n",
    "- Basic Auth: scheme that uses an encoded username and password for credentials\n",
    "- API Key Auth: scheme that uses a unique key for credentials\n",
    "- Authorization Header: the HTTP header used to hold credentials\n",
    "- OAuth: an authentication scheme that automates the key exchange between client and server.\n",
    "- Access Token: a secret that the client obtains upon successfully completing the OAuth process."
   ]
  },
  {
   "cell_type": "markdown",
   "metadata": {
    "slideshow": {
     "slide_type": "subslide"
    }
   },
   "source": [
    "# Glossary\n",
    "- Scope: permissions that determine what access the client has to user’s data.\n",
    "- SOAP: API architecture known for standardized message formats\n",
    "- REST: API architecture that centers around manipulating resources\n",
    "- Resource: API term for a business noun like customer or order\n",
    "- Endpoint: A URL that makes up part of an API. In REST, each resource gets its own endpoints"
   ]
  },
  {
   "cell_type": "markdown",
   "metadata": {
    "slideshow": {
     "slide_type": "subslide"
    }
   },
   "source": [
    "# Glossary\n",
    "- Query String: A portion of the URL that is used to pass data to the server\n",
    "- Query Parameters: A key-value pair found in the query string (topping=cheese)\n",
    "- Pagination: Process of splitting up results into manageable chunks"
   ]
  }
 ],
 "metadata": {
  "celltoolbar": "Slideshow",
  "kernelspec": {
   "display_name": "Python 3",
   "language": "python",
   "name": "python3"
  },
  "language_info": {
   "codemirror_mode": {
    "name": "ipython",
    "version": 3
   },
   "file_extension": ".py",
   "mimetype": "text/x-python",
   "name": "python",
   "nbconvert_exporter": "python",
   "pygments_lexer": "ipython3",
   "version": "3.7.0"
  }
 },
 "nbformat": 4,
 "nbformat_minor": 1
}
